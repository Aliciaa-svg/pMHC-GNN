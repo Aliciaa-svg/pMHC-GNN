{
 "cells": [
  {
   "cell_type": "code",
   "execution_count": 10,
   "metadata": {},
   "outputs": [],
   "source": [
    "import numpy as np\n",
    "from tqdm import tqdm\n",
    "import pandas as pd"
   ]
  },
  {
   "cell_type": "code",
   "execution_count": 12,
   "metadata": {},
   "outputs": [],
   "source": [
    "df = pd.read_csv('data/cf_ba_combined.csv')"
   ]
  },
  {
   "cell_type": "code",
   "execution_count": 4,
   "metadata": {},
   "outputs": [],
   "source": [
    "mhc_id = df['mhc_name'].unique()\n",
    "mhc_name2id = {}\n",
    "for i, m in enumerate(mhc_id):\n",
    "    mhc_name2id[m] = i\n",
    "\n",
    "pep_id = df['peptide'].unique()\n",
    "pep_name2id = {}\n",
    "for i, p in enumerate(pep_id):\n",
    "    pep_name2id[p] = i"
   ]
  },
  {
   "cell_type": "code",
   "execution_count": null,
   "metadata": {},
   "outputs": [],
   "source": [
    "import math\n",
    "edge1 = []\n",
    "edge2 = []\n",
    "negedge1 = []\n",
    "negedge2 = []\n",
    "edge_weight_mp = []\n",
    "edge_weight_mp_neg = []\n",
    "for idx, row in tqdm(df.iterrows(), total=len(df)):\n",
    "    bind_aff = row['affinity']\n",
    "    if bind_aff < 500:\n",
    "        m_name = row['mhc_name']\n",
    "        p_name = row['peptide']\n",
    "        m_id = mhc_name2id[m_name]\n",
    "        p_id = pep_name2id[p_name]\n",
    "        edge1.append(m_id)\n",
    "        edge2.append(p_id)\n",
    "        edge_w = 1 - math.log(bind_aff) / math.log(50000)\n",
    "        edge_weight_mp.append(edge_w)\n",
    "    else:\n",
    "        m_name = row['mhc_name']\n",
    "        p_name = row['peptide']\n",
    "        m_id = mhc_name2id[m_name]\n",
    "        p_id = pep_name2id[p_name]\n",
    "        negedge1.append(m_id)\n",
    "        negedge2.append(p_id)\n",
    "        edge_w = 1 - math.log(bind_aff) / math.log(50000)\n",
    "        edge_weight_mp_neg.append(edge_w)\n",
    "\n",
    "edge_mp = np.stack((edge1, edge2))\n",
    "edge_mp_neg = np.stack((negedge1, negedge2))\n",
    "edge_weight_mp = np.array(edge_weight_mp)\n",
    "edge_weight_mp_neg = np.array(edge_weight_mp_neg)"
   ]
  },
  {
   "cell_type": "code",
   "execution_count": 7,
   "metadata": {},
   "outputs": [],
   "source": [
    "edge_mp = np.concatenate((edge_mp, edge_mp_neg), axis=1)\n",
    "edge_weight_mp = np.concatenate((edge_weight_mp, edge_weight_mp_neg))"
   ]
  },
  {
   "cell_type": "code",
   "execution_count": null,
   "metadata": {},
   "outputs": [],
   "source": [
    "from sklearn.metrics.pairwise import cosine_similarity\n",
    "\n",
    "mhc = np.load('data/mhc_2d_lm.npy')\n",
    "mhc = np.reshape(mhc, (mhc.shape[0], -1))\n",
    "sim_mhc = (cosine_similarity(mhc))\n",
    "\n",
    "threshold = 0.7\n",
    "mask = (sim_mhc>threshold)\n",
    "edge_weight_mm = sim_mhc[mask]\n",
    "idx = np.where(mask)\n",
    "edge_mm = np.stack((idx[0], idx[1]))\n",
    "col_eq = edge_mm[0]==edge_mm[1]\n",
    "edge_mm = edge_mm[:, ~col_eq]\n",
    "edge_weight_mm = edge_weight_mm[~col_eq]\n",
    "cond2 = edge_mm[0]<=edge_mm[1]\n",
    "edge_mm = edge_mm[:, cond2]\n",
    "edge_weight_mm = edge_weight_mm[cond2]"
   ]
  },
  {
   "cell_type": "code",
   "execution_count": null,
   "metadata": {},
   "outputs": [],
   "source": [
    "from scipy.sparse import lil_matrix\n",
    "from sklearn.metrics.pairwise import cosine_similarity\n",
    "pt = np.load('data/pt_2d_lm.npy')\n",
    "pt = np.reshape(pt, (pt.shape[0], -1))\n",
    "def batch_cosine_similarity_sparse(X, threshold=0.6, batch_size=10000):\n",
    "    sim_matrix = lil_matrix((X.shape[0], X.shape[0]), dtype=float)\n",
    "    for start in tqdm(range(0, X.shape[0], batch_size)):\n",
    "        end = start + batch_size\n",
    "        batch_similarity = (cosine_similarity(X[start:end], X))\n",
    "        batch_similarity[batch_similarity <= threshold] = 0\n",
    "        sim_matrix[start:end] = batch_similarity\n",
    "    sim_matrix_csr = sim_matrix.tocsr() \n",
    "    return sim_matrix_csr\n",
    "\n",
    "threshold = 0.8\n",
    "sim_pt = batch_cosine_similarity_sparse(pt, threshold)"
   ]
  },
  {
   "cell_type": "code",
   "execution_count": 21,
   "metadata": {},
   "outputs": [],
   "source": [
    "sim_pt_coo = sim_pt.tocoo()\n",
    "edge_pp = np.stack((sim_pt_coo.row, sim_pt_coo.col))\n",
    "edge_pp_weight = sim_pt_coo.data\n",
    "col_eq = edge_pp[0]==edge_pp[1]\n",
    "edge_pp = edge_pp[:, ~col_eq]\n",
    "edge_pp_weight = edge_pp_weight[~col_eq]\n",
    "\n",
    "cond2 = edge_pp[0]<=edge_pp[1]\n",
    "edge_pp = edge_pp[:, cond2]\n",
    "edge_pp_weight = edge_pp_weight[cond2]"
   ]
  },
  {
   "cell_type": "code",
   "execution_count": 9,
   "metadata": {},
   "outputs": [],
   "source": [
    "np.save('data/edge_mp.npy', edge_mp)\n",
    "np.save('data/edge_mm.npy', edge_mm)\n",
    "np.save('data/edge_pp.npy', edge_pp)\n",
    "np.save('data/edge_pp_weight.npy', edge_pp_weight)\n",
    "np.save('data/edge_mp_weight.npy', edge_weight_mp)\n",
    "np.save('data/edge_mm_weight.npy', edge_weight_mm)"
   ]
  }
 ],
 "metadata": {
  "kernelspec": {
   "display_name": "base",
   "language": "python",
   "name": "python3"
  },
  "language_info": {
   "codemirror_mode": {
    "name": "ipython",
    "version": 3
   },
   "file_extension": ".py",
   "mimetype": "text/x-python",
   "name": "python",
   "nbconvert_exporter": "python",
   "pygments_lexer": "ipython3",
   "version": "3.8.10"
  }
 },
 "nbformat": 4,
 "nbformat_minor": 2
}
