{
 "cells": [
  {
   "cell_type": "code",
   "execution_count": 1,
   "metadata": {},
   "outputs": [],
   "source": [
    "from tqdm import tqdm\n",
    "import numpy as np\n",
    "import pandas as pd\n"
   ]
  },
  {
   "cell_type": "code",
   "execution_count": 3,
   "metadata": {},
   "outputs": [],
   "source": [
    "df = pd.read_csv('data/cf_ba_combined.csv')"
   ]
  },
  {
   "cell_type": "code",
   "execution_count": null,
   "metadata": {},
   "outputs": [],
   "source": [
    "from transformers import BertTokenizerFast, BertModel\n",
    "checkpoint = 'unikei/bert-base-proteins'\n",
    "tokenizer = BertTokenizerFast.from_pretrained(checkpoint)\n",
    "model = BertModel.from_pretrained(checkpoint)"
   ]
  },
  {
   "cell_type": "markdown",
   "metadata": {},
   "source": [
    "## MHC"
   ]
  },
  {
   "cell_type": "code",
   "execution_count": 7,
   "metadata": {},
   "outputs": [],
   "source": [
    "mhc = df['mhc_seq'].unique()\n",
    "mhc_name = df['mhc_name'].unique()"
   ]
  },
  {
   "cell_type": "code",
   "execution_count": null,
   "metadata": {},
   "outputs": [],
   "source": [
    "from tqdm import tqdm\n",
    "import numpy as np\n",
    "mhc_dict = {}\n",
    "mhc_arr = []\n",
    "mhc_arr_2d = []\n",
    "\n",
    "for idx, row in df.iterrows():\n",
    "    mhc_dict[row['mhc_name']] = row['mhc_seq']\n",
    "for name, m in tqdm(mhc_dict.items()):\n",
    "    mhc_arr.append(m)\n",
    "tokens = tokenizer(mhc_arr, return_tensors='pt', padding=True)\n",
    "output = model(**tokens)[0].detach().cpu()\n",
    "mhc_arr_2d = np.array(output)\n",
    "np.save('data/mhc_2d_lm.npy', mhc_arr_2d)"
   ]
  },
  {
   "cell_type": "markdown",
   "metadata": {},
   "source": [
    "## peptide"
   ]
  },
  {
   "cell_type": "code",
   "execution_count": 10,
   "metadata": {},
   "outputs": [],
   "source": [
    "pep = df['peptide'].unique()"
   ]
  },
  {
   "cell_type": "code",
   "execution_count": 12,
   "metadata": {},
   "outputs": [],
   "source": [
    "pt_arr_2d = []\n",
    "pt = []\n",
    "ptl = 16\n",
    "for p in pep:\n",
    "    pt.append(p[:ptl])"
   ]
  },
  {
   "cell_type": "code",
   "execution_count": null,
   "metadata": {},
   "outputs": [],
   "source": [
    "b = 500\n",
    "for i in tqdm(range(0, len(pep), b)):\n",
    "    cur = pt[i:i+b]\n",
    "    tokens = tokenizer(cur, return_tensors='pt', padding='max_length', truncation=True, max_length=ptl)\n",
    "    output = model(**tokens)[0].detach().cpu()\n",
    "    pt_arr_2d.extend(np.array(output))"
   ]
  },
  {
   "cell_type": "code",
   "execution_count": 14,
   "metadata": {},
   "outputs": [],
   "source": [
    "np.save('data/pt_2d_lm.npy', np.array(pt_arr_2d))"
   ]
  }
 ],
 "metadata": {
  "kernelspec": {
   "display_name": "env1",
   "language": "python",
   "name": "python3"
  },
  "language_info": {
   "codemirror_mode": {
    "name": "ipython",
    "version": 3
   },
   "file_extension": ".py",
   "mimetype": "text/x-python",
   "name": "python",
   "nbconvert_exporter": "python",
   "pygments_lexer": "ipython3",
   "version": "3.8.10"
  }
 },
 "nbformat": 4,
 "nbformat_minor": 2
}
